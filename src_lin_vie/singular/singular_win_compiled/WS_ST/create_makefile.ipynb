{
 "cells": [
  {
   "cell_type": "code",
   "execution_count": 1,
   "metadata": {
    "collapsed": false
   },
   "outputs": [],
   "source": [
    "import os\n",
    "makefile = open('makefile','w')"
   ]
  },
  {
   "cell_type": "code",
   "execution_count": 2,
   "metadata": {
    "collapsed": true
   },
   "outputs": [],
   "source": [
    "line1 = 'include ../../make.inc'\n",
    "line2 = 'INCL_PATH = -I../../include'"
   ]
  },
  {
   "cell_type": "code",
   "execution_count": 3,
   "metadata": {
    "collapsed": false
   },
   "outputs": [],
   "source": [
    "makefile.write(\"%s\\n%s\\n\\n\" % (line1, line2))"
   ]
  },
  {
   "cell_type": "code",
   "execution_count": 4,
   "metadata": {
    "collapsed": false
   },
   "outputs": [
    {
     "name": "stdout",
     "output_type": "stream",
     "text": [
      "['a_functions_ws_st', 'lambda_limits_ws_st', 'n_functions_ws_st', 'psi_limits_ws_st', 'quadric_ws_st', 'subtriangles_ws_st', 'u_limits_ws_st']\n"
     ]
    }
   ],
   "source": [
    "names = [scr.split('.')[0] for scr in os.listdir('./') if scr.endswith('.cpp')]\n",
    "print names"
   ]
  },
  {
   "cell_type": "code",
   "execution_count": 5,
   "metadata": {
    "collapsed": false
   },
   "outputs": [
    {
     "name": "stdout",
     "output_type": "stream",
     "text": [
      "a_functions_ws_st.($obj) lambda_limits_ws_st.($obj) n_functions_ws_st.($obj) psi_limits_ws_st.($obj) quadric_ws_st.($obj) subtriangles_ws_st.($obj) u_limits_ws_st.($obj)\n"
     ]
    }
   ],
   "source": [
    "objects = [name+'.($obj)' for name in names]\n",
    "objects =  ' '.join(objects)\n",
    "print objects"
   ]
  },
  {
   "cell_type": "code",
   "execution_count": 6,
   "metadata": {
    "collapsed": false
   },
   "outputs": [],
   "source": [
    "makefile.write('allobj: %s\\n\\n' %(objects))"
   ]
  },
  {
   "cell_type": "code",
   "execution_count": 7,
   "metadata": {
    "collapsed": false
   },
   "outputs": [],
   "source": [
    "for name in names:\n",
    "    line = '%s.($obj): %s.cpp\\n\\t$(CompCXX) -c $(INCL_PATH) %s.cpp\\n\\n' % (name,name,name)\n",
    "    makefile.write(line)"
   ]
  },
  {
   "cell_type": "code",
   "execution_count": 8,
   "metadata": {
    "collapsed": false
   },
   "outputs": [],
   "source": [
    "makefile.write('clean:\\n\\trm *.$(obj)')"
   ]
  },
  {
   "cell_type": "code",
   "execution_count": 9,
   "metadata": {
    "collapsed": true
   },
   "outputs": [],
   "source": [
    "makefile.close()"
   ]
  },
  {
   "cell_type": "code",
   "execution_count": null,
   "metadata": {
    "collapsed": true
   },
   "outputs": [],
   "source": []
  },
  {
   "cell_type": "code",
   "execution_count": null,
   "metadata": {
    "collapsed": true
   },
   "outputs": [],
   "source": []
  },
  {
   "cell_type": "code",
   "execution_count": null,
   "metadata": {
    "collapsed": true
   },
   "outputs": [],
   "source": []
  }
 ],
 "metadata": {
  "kernelspec": {
   "display_name": "Python 2",
   "language": "python",
   "name": "python2"
  },
  "language_info": {
   "codemirror_mode": {
    "name": "ipython",
    "version": 2
   },
   "file_extension": ".py",
   "mimetype": "text/x-python",
   "name": "python",
   "nbconvert_exporter": "python",
   "pygments_lexer": "ipython2",
   "version": "2.7.11"
  }
 },
 "nbformat": 4,
 "nbformat_minor": 0
}
