{
 "cells": [
  {
   "cell_type": "code",
   "execution_count": 10,
   "metadata": {
    "collapsed": false
   },
   "outputs": [],
   "source": [
    "import os\n",
    "makefile = open('makefile','w')"
   ]
  },
  {
   "cell_type": "code",
   "execution_count": 11,
   "metadata": {
    "collapsed": true
   },
   "outputs": [],
   "source": [
    "line1 = 'include ../../make.inc'\n",
    "line2 = 'INCL_PATH = -I../../include'"
   ]
  },
  {
   "cell_type": "code",
   "execution_count": 12,
   "metadata": {
    "collapsed": false
   },
   "outputs": [],
   "source": [
    "makefile.write(\"%s\\n%s\\n\\n\" % (line1, line2))"
   ]
  },
  {
   "cell_type": "code",
   "execution_count": 13,
   "metadata": {
    "collapsed": false
   },
   "outputs": [
    {
     "name": "stdout",
     "output_type": "stream",
     "text": [
      "['A_functions_ws_ea', 'N_functions_ws_ea', 'PSI_limits_ws_ea', 'quadric_ws_ea', 'Simplex_ws_ea', 'THETA_limits_ws_ea']\n"
     ]
    }
   ],
   "source": [
    "names = [scr.split('.')[0] for scr in os.listdir('./') if scr.endswith('.cpp')]\n",
    "print names"
   ]
  },
  {
   "cell_type": "code",
   "execution_count": 14,
   "metadata": {
    "collapsed": false
   },
   "outputs": [
    {
     "name": "stdout",
     "output_type": "stream",
     "text": [
      "A_functions_ws_ea.($obj) N_functions_ws_ea.($obj) PSI_limits_ws_ea.($obj) quadric_ws_ea.($obj) Simplex_ws_ea.($obj) THETA_limits_ws_ea.($obj)\n"
     ]
    }
   ],
   "source": [
    "objects = [name+'.($obj)' for name in names]\n",
    "objects =  ' '.join(objects)\n",
    "print objects"
   ]
  },
  {
   "cell_type": "code",
   "execution_count": 15,
   "metadata": {
    "collapsed": false
   },
   "outputs": [],
   "source": [
    "makefile.write('allobj: %s\\n\\n' %(objects))"
   ]
  },
  {
   "cell_type": "code",
   "execution_count": 16,
   "metadata": {
    "collapsed": false
   },
   "outputs": [],
   "source": [
    "for name in names:\n",
    "    line = '%s.($obj): %s.cpp\\n\\t$(CompCXX) -c $(INCL_PATH) %s.cpp\\n\\n' % (name,name,name)\n",
    "    makefile.write(line)"
   ]
  },
  {
   "cell_type": "code",
   "execution_count": 17,
   "metadata": {
    "collapsed": false
   },
   "outputs": [],
   "source": [
    "makefile.write('clean:\\n\\trm *.$(obj)')"
   ]
  },
  {
   "cell_type": "code",
   "execution_count": 18,
   "metadata": {
    "collapsed": true
   },
   "outputs": [],
   "source": [
    "makefile.close()"
   ]
  },
  {
   "cell_type": "code",
   "execution_count": null,
   "metadata": {
    "collapsed": true
   },
   "outputs": [],
   "source": []
  },
  {
   "cell_type": "code",
   "execution_count": null,
   "metadata": {
    "collapsed": true
   },
   "outputs": [],
   "source": []
  },
  {
   "cell_type": "code",
   "execution_count": null,
   "metadata": {
    "collapsed": true
   },
   "outputs": [],
   "source": []
  }
 ],
 "metadata": {
  "kernelspec": {
   "display_name": "Python 2",
   "language": "python",
   "name": "python2"
  },
  "language_info": {
   "codemirror_mode": {
    "name": "ipython",
    "version": 2
   },
   "file_extension": ".py",
   "mimetype": "text/x-python",
   "name": "python",
   "nbconvert_exporter": "python",
   "pygments_lexer": "ipython2",
   "version": "2.7.11"
  }
 },
 "nbformat": 4,
 "nbformat_minor": 0
}
